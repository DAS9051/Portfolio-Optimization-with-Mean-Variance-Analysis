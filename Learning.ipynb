{
  "nbformat": 4,
  "nbformat_minor": 0,
  "metadata": {
    "colab": {
      "provenance": [],
      "authorship_tag": "ABX9TyOW5IAVCy9Rz6p64tHmW04M",
      "include_colab_link": true
    },
    "kernelspec": {
      "name": "python3",
      "display_name": "Python 3"
    },
    "language_info": {
      "name": "python"
    }
  },
  "cells": [
    {
      "cell_type": "markdown",
      "metadata": {
        "id": "view-in-github",
        "colab_type": "text"
      },
      "source": [
        "<a href=\"https://colab.research.google.com/github/DAS9051/Portfolio-Optimization-with-Mean-Variance-Analysis/blob/main/Learning.ipynb\" target=\"_parent\"><img src=\"https://colab.research.google.com/assets/colab-badge.svg\" alt=\"Open In Colab\"/></a>"
      ]
    },
    {
      "cell_type": "markdown",
      "source": [
        "Imports"
      ],
      "metadata": {
        "id": "1Jb5HXgwHCLG"
      }
    },
    {
      "cell_type": "code",
      "source": [
        "import yfinance as yf\n",
        "import pandas as pd\n",
        "import numpy as np\n",
        "from scipy.optimize import minimize\n",
        "import matplotlib.pyplot as plt\n",
        "from sklearn.preprocessing import MinMaxScaler\n",
        "import torch\n",
        "import torch.nn as nn"
      ],
      "metadata": {
        "id": "nBCp3GibHC2z"
      },
      "execution_count": 2,
      "outputs": []
    },
    {
      "cell_type": "markdown",
      "source": [
        "Mean Variance"
      ],
      "metadata": {
        "id": "QH2SVBNog9ZS"
      }
    },
    {
      "cell_type": "markdown",
      "source": [
        "Fetch Stock Download Data"
      ],
      "metadata": {
        "id": "FPhzwQgKTiN1"
      }
    },
    {
      "cell_type": "code",
      "source": [
        "stocks = [\n",
        "    \"AAPL\", \"GOOGL\", \"MSFT\", \"TSLA\", \"AMZN\",  # Tech\n",
        "    \"JPM\", \"BAC\", \"GS\",  # Banking\n",
        "    \"XOM\", \"CVX\",  # Energy\n",
        "    \"JNJ\", \"PFE\",  # Healthcare\n",
        "    \"WMT\", \"TGT\",  # Retail\n",
        "    \"NVDA\", \"AMD\",  # Semiconductors\n",
        "    \"DIS\", \"NFLX\",   # Entertainment\n",
        "    \"ACN\",\"ADBE\",\"GOOG\"\n",
        "]\n",
        "\n",
        "\n",
        "\n",
        "data = yf.download(stocks, start=\"2020-01-01\", end=\"2025-03-01\")\n",
        "data = data[\"Close\"]\n",
        "print(data.head())"
      ],
      "metadata": {
        "colab": {
          "base_uri": "https://localhost:8080/"
        },
        "id": "lYvJ9_FXHIre",
        "outputId": "ed6960b2-a380-4f11-c02c-033ab153942d",
        "collapsed": true
      },
      "execution_count": 3,
      "outputs": [
        {
          "output_type": "stream",
          "name": "stdout",
          "text": [
            "YF.download() has changed argument auto_adjust default to True\n"
          ]
        },
        {
          "output_type": "stream",
          "name": "stderr",
          "text": [
            "[*********************100%***********************]  21 of 21 completed"
          ]
        },
        {
          "output_type": "stream",
          "name": "stdout",
          "text": [
            "Ticker           AAPL         ACN        ADBE        AMD       AMZN  \\\n",
            "Date                                                                  \n",
            "2020-01-02  72.716064  195.263565  334.429993  49.099998  94.900497   \n",
            "2020-01-03  72.009132  194.938370  331.809998  48.599998  93.748497   \n",
            "2020-01-06  72.582901  193.665405  333.709991  48.389999  95.143997   \n",
            "2020-01-07  72.241539  189.484207  333.390015  48.250000  95.343002   \n",
            "2020-01-08  73.403641  189.855896  337.869995  47.830002  94.598503   \n",
            "\n",
            "Ticker            BAC        CVX         DIS       GOOG      GOOGL  ...  \\\n",
            "Date                                                                ...   \n",
            "2020-01-02  31.275539  96.158691  146.391510  68.046204  68.108368  ...   \n",
            "2020-01-03  30.626162  95.826111  144.712280  67.712273  67.752075  ...   \n",
            "2020-01-06  30.582281  95.501434  143.872635  69.381882  69.557945  ...   \n",
            "2020-01-07  30.380445  94.281914  143.922028  69.338577  69.423584  ...   \n",
            "2020-01-08  30.687593  93.204956  143.625687  69.885002  69.917725  ...   \n",
            "\n",
            "Ticker             JNJ         JPM        MSFT        NFLX      NVDA  \\\n",
            "Date                                                                   \n",
            "2020-01-02  126.055161  121.477203  153.323288  329.809998  5.972161   \n",
            "2020-01-03  124.595718  119.874153  151.414154  325.899994  5.876571   \n",
            "2020-01-06  124.440308  119.778847  151.805481  335.829987  5.901215   \n",
            "2020-01-07  125.200233  117.742531  150.421356  330.750000  5.972660   \n",
            "2020-01-08  125.182953  118.661034  152.817337  339.260010  5.983862   \n",
            "\n",
            "Ticker            PFE         TGT       TSLA        WMT        XOM  \n",
            "Date                                                                \n",
            "2020-01-02  29.490604  111.349770  28.684000  36.681847  55.137978  \n",
            "2020-01-03  29.332376  110.192719  29.534000  36.358021  54.694702  \n",
            "2020-01-06  29.294701  109.150505  30.102667  36.283993  55.114655  \n",
            "2020-01-07  29.196756  109.344833  31.270666  35.947838  54.663601  \n",
            "2020-01-08  29.430315  108.991516  32.809334  35.824474  53.839245  \n",
            "\n",
            "[5 rows x 21 columns]\n"
          ]
        },
        {
          "output_type": "stream",
          "name": "stderr",
          "text": [
            "\n"
          ]
        }
      ]
    },
    {
      "cell_type": "code",
      "source": [
        "fundamentals = {}\n",
        "\n",
        "for stock in stocks:\n",
        "    ticker = yf.Ticker(stock)\n",
        "\n",
        "    # Fetch fundamental metrics\n",
        "    pe_ratio = ticker.info.get(\"trailingPE\", None)  # P/E Ratio\n",
        "\n",
        "    # Use Operating Income\n",
        "    operating_income = ticker.financials.loc[\"Operating Income\"].sum() if \"Operating Income\" in ticker.financials.index else None\n",
        "\n",
        "    # Use Research and Development (R&D)\n",
        "    r_and_d = ticker.financials.loc[\"Research And Development\"].sum() if \"Research And Development\" in ticker.financials.index else None\n",
        "\n",
        "    profit_margin = ticker.info.get(\"profitMargins\", None)  # Profit Margin\n",
        "\n",
        "\n",
        "    fundamentals[stock] = {\n",
        "        \"P/E\": pe_ratio,\n",
        "        \"Operating Income\": operating_income,\n",
        "        \"R&D\": r_and_d,\n",
        "        \"Profit Margin\": profit_margin\n",
        "    }\n",
        "\n",
        "fundamentals_df = pd.DataFrame(fundamentals).T\n",
        "print(fundamentals_df)"
      ],
      "metadata": {
        "colab": {
          "base_uri": "https://localhost:8080/"
        },
        "id": "RadgAXcvthyg",
        "outputId": "c2209258-759b-410d-eff3-bb659f0d1a32"
      },
      "execution_count": 4,
      "outputs": [
        {
          "output_type": "stream",
          "name": "stdout",
          "text": [
            "              P/E  Operating Income           R&D  Profit Margin\n",
            "AAPL    34.587300      4.659030e+11  1.094500e+11        0.24295\n",
            "GOOGL   19.195274      3.502390e+11  1.658150e+11        0.28604\n",
            "MSFT    30.499193      3.512550e+11  1.019330e+11        0.35428\n",
            "TSLA   129.827580      3.697900e+10  1.417700e+10        0.07259\n",
            "AMZN    34.849907      1.425720e+11  4.274000e+10        0.09287\n",
            "JPM     12.302432               NaN           NaN        0.35060\n",
            "BAC     12.850467               NaN           NaN        0.28243\n",
            "GS      13.403751               NaN           NaN        0.27368\n",
            "XOM     15.016582      1.721600e+11           NaN        0.09889\n",
            "CVX     17.087448      1.012760e+11           NaN        0.09031\n",
            "JNJ     28.225863      8.751400e+10  6.072900e+10        0.15836\n",
            "PFE     17.879433      8.117500e+10  4.328900e+10        0.12622\n",
            "WMT     35.331950      1.027300e+11           NaN        0.02854\n",
            "TGT     11.698647      2.406700e+10           NaN        0.03839\n",
            "NVDA    37.302720      1.300430e+11  3.419600e+10        0.55848\n",
            "AMD    103.220000      7.399000e+09  2.017800e+10        0.06364\n",
            "DIS     31.840910      3.133500e+10           NaN        0.06070\n",
            "NFLX    47.164143      2.919896e+10  1.058598e+10        0.22337\n",
            "ACN     25.068367      3.539445e+10           NaN        0.11430\n",
            "ADBE    25.442612      2.629100e+10  1.294400e+10        0.30635\n",
            "GOOG    19.410448      3.502390e+11  1.658150e+11        0.28604\n"
          ]
        }
      ]
    },
    {
      "cell_type": "markdown",
      "source": [
        "Count number of Stocks in the portfolio"
      ],
      "metadata": {
        "id": "akrn2XMmOByv"
      }
    },
    {
      "cell_type": "code",
      "source": [
        "num_stocks = len(data.columns)\n",
        "num_stocks"
      ],
      "metadata": {
        "colab": {
          "base_uri": "https://localhost:8080/"
        },
        "id": "SRPY-mNJN-cc",
        "outputId": "383b5eba-c838-4935-c26e-38a51d3e5a36"
      },
      "execution_count": 5,
      "outputs": [
        {
          "output_type": "execute_result",
          "data": {
            "text/plain": [
              "21"
            ]
          },
          "metadata": {},
          "execution_count": 5
        }
      ]
    },
    {
      "cell_type": "markdown",
      "source": [
        "Setup some Constants"
      ],
      "metadata": {
        "id": "AjcZMg-uTsKI"
      }
    },
    {
      "cell_type": "code",
      "source": [
        "weights = np.ones(num_stocks) / num_stocks\n",
        "returns = data.pct_change().dropna()\n",
        "mean_returns = returns.mean() * 252\n"
      ],
      "metadata": {
        "id": "-Klkk-M2Q6RC"
      },
      "execution_count": 6,
      "outputs": []
    },
    {
      "cell_type": "markdown",
      "source": [
        "Makes the Covariance Matirx"
      ],
      "metadata": {
        "id": "VJrXWDyEwdeH"
      }
    },
    {
      "cell_type": "code",
      "source": [
        "# Fill missing values with median to prevent errors\n",
        "fundamentals_df.fillna(fundamentals_df.median(), inplace=True)\n",
        "\n",
        "# Normalize the fundamental metrics (scale between 0 and 1)\n",
        "scaler = MinMaxScaler()\n",
        "normalized_fundamentals = scaler.fit_transform(fundamentals_df)\n",
        "\n",
        "# Define fundamental-based risk model\n",
        "# Higher P/E increases risk, higher Operating Income and Profit Margins lower risk\n",
        "fundamental_risk = (1 / (normalized_fundamentals[:, 0] + 0.01)) - (normalized_fundamentals[:, 1]) - (normalized_fundamentals[:, 3]) + (normalized_fundamentals[:, 2] * 0.5)\n",
        "\n",
        "# Convert to a diagonal covariance matrix\n",
        "fundamental_cov_matrix = np.diag(fundamental_risk)"
      ],
      "metadata": {
        "id": "T6_4wpgkwcS1"
      },
      "execution_count": 7,
      "outputs": []
    },
    {
      "cell_type": "markdown",
      "source": [
        "Mean Variance Analysis"
      ],
      "metadata": {
        "id": "AtZNxPPFPbyB"
      }
    },
    {
      "cell_type": "code",
      "source": [
        "def portfolio_performance(weights, mean_returns, cov_matrix):\n",
        "    portfolio_return = np.dot(weights, mean_returns)  # Expected return\n",
        "    portfolio_risk = np.sqrt(np.dot(weights.T, np.dot(cov_matrix, weights)))  # Risk (volatility)\n",
        "    return portfolio_return, portfolio_risk\n",
        "\n",
        "def minimize_volatility(weights, mean_returns, cov_matrix):\n",
        "    return portfolio_performance(weights, mean_returns, cov_matrix)[1]"
      ],
      "metadata": {
        "id": "iy4Y8K1aPcdh"
      },
      "execution_count": 8,
      "outputs": []
    },
    {
      "cell_type": "code",
      "source": [
        "constraints = {'type': 'eq', 'fun': lambda x: np.sum(x) - 1}\n",
        "\n",
        "# Bounds: No short-selling (weights must be between 0 and 1)\n",
        "bounds = [(0, 1) for _ in range(num_stocks)]\n",
        "\n",
        "# Optimization process\n",
        "optimized = minimize(minimize_volatility, weights, args=(mean_returns, fundamental_cov_matrix),\n",
        "                     method='SLSQP', bounds=bounds, constraints=constraints)\n",
        "\n",
        "# Extract optimal portfolio weights\n",
        "optimal_weights = optimized.x"
      ],
      "metadata": {
        "id": "Kspmv3jlQoGR"
      },
      "execution_count": 9,
      "outputs": []
    },
    {
      "cell_type": "markdown",
      "source": [
        "Returns Portfolio Optimization Precents"
      ],
      "metadata": {
        "id": "T-LuE3jAlJg8"
      }
    },
    {
      "cell_type": "code",
      "source": [
        "for stock, weight in zip(stocks, optimal_weights):\n",
        "    print(f\"{stock}: {weight:.2%}\")"
      ],
      "metadata": {
        "colab": {
          "base_uri": "https://localhost:8080/"
        },
        "id": "-5c-BjwCRL22",
        "outputId": "a0018058-2f57-446e-e7a6-47647c1f2f6c"
      },
      "execution_count": 10,
      "outputs": [
        {
          "output_type": "stream",
          "name": "stdout",
          "text": [
            "AAPL: 5.77%\n",
            "GOOGL: 1.72%\n",
            "MSFT: 4.56%\n",
            "TSLA: 25.85%\n",
            "AMZN: 4.85%\n",
            "JPM: 0.34%\n",
            "BAC: 0.44%\n",
            "GS: 0.55%\n",
            "XOM: 0.85%\n",
            "CVX: 1.25%\n",
            "JNJ: 3.44%\n",
            "PFE: 1.39%\n",
            "WMT: 4.74%\n",
            "TGT: 0.22%\n",
            "NVDA: 6.84%\n",
            "AMD: 17.79%\n",
            "DIS: 4.00%\n",
            "NFLX: 7.87%\n",
            "ACN: 2.76%\n",
            "ADBE: 3.02%\n",
            "GOOG: 1.77%\n"
          ]
        }
      ]
    },
    {
      "cell_type": "markdown",
      "source": [
        "LSTM Solution"
      ],
      "metadata": {
        "id": "EFYO0ePCg8X-"
      }
    },
    {
      "cell_type": "code",
      "source": [
        "ticker = \"AAPL\"\n",
        "df = yf.download(ticker, start=\"2015-01-01\", end=\"2025-01-01\")[[\"Close\"]].dropna()\n",
        "df.columns = [\"price\"]"
      ],
      "metadata": {
        "colab": {
          "base_uri": "https://localhost:8080/"
        },
        "id": "DyjtHF5RhBk0",
        "outputId": "bb4b4cec-cbb9-4dad-d376-656f1196dedb"
      },
      "execution_count": 13,
      "outputs": [
        {
          "output_type": "stream",
          "name": "stderr",
          "text": [
            "\r[*********************100%***********************]  1 of 1 completed\n"
          ]
        }
      ]
    },
    {
      "cell_type": "code",
      "source": [
        "def create_sequences(data, window_size):\n",
        "    sequences = []\n",
        "    for i in range(len(data) - window_size):\n",
        "        seq = data[i:i+window_size]\n",
        "        label = data[i+window_size]\n",
        "        sequences.append((seq, label))\n",
        "    return sequences\n",
        "\n",
        "# Normalize prices\n",
        "window_size = 30\n",
        "scaled = (df['price'] - df['price'].mean()) / df['price'].std()\n",
        "data = scaled.values.astype(np.float32)\n",
        "\n",
        "# Create input/output sequences\n",
        "sequences = create_sequences(data, window_size)\n",
        "X = torch.tensor([s[0] for s in sequences]).unsqueeze(-1)  # [samples, window_size, 1]\n",
        "y = torch.tensor([s[1] for s in sequences]).unsqueeze(-1)  # [samples, 1]"
      ],
      "metadata": {
        "colab": {
          "base_uri": "https://localhost:8080/"
        },
        "id": "S6O2suVXhn2T",
        "outputId": "f08f185d-76a9-4009-b5f3-677073ce9304"
      },
      "execution_count": 14,
      "outputs": [
        {
          "output_type": "stream",
          "name": "stderr",
          "text": [
            "<ipython-input-14-3119543e09d0>:16: UserWarning: Creating a tensor from a list of numpy.ndarrays is extremely slow. Please consider converting the list to a single numpy.ndarray with numpy.array() before converting to a tensor. (Triggered internally at /pytorch/torch/csrc/utils/tensor_new.cpp:254.)\n",
            "  X = torch.tensor([s[0] for s in sequences]).unsqueeze(-1)  # [samples, window_size, 1]\n"
          ]
        }
      ]
    },
    {
      "cell_type": "code",
      "source": [
        "class LSTMForecast(nn.Module):\n",
        "    def __init__(self, input_size=1, hidden_size=64, num_layers=2):\n",
        "        super().__init__()\n",
        "        self.lstm = nn.LSTM(input_size, hidden_size, num_layers, batch_first=True)\n",
        "        self.fc = nn.Linear(hidden_size, 1)\n",
        "\n",
        "    def forward(self, x):\n",
        "        out, _ = self.lstm(x)\n",
        "        out = self.fc(out[:, -1])  # last timestep\n",
        "        return out"
      ],
      "metadata": {
        "id": "wIymFWeWhowc"
      },
      "execution_count": 15,
      "outputs": []
    },
    {
      "cell_type": "markdown",
      "source": [
        "Train the Model"
      ],
      "metadata": {
        "id": "A9aeMmX-h1ZJ"
      }
    },
    {
      "cell_type": "code",
      "source": [
        "model = LSTMForecast()\n",
        "criterion = nn.MSELoss()\n",
        "optimizer = torch.optim.Adam(model.parameters(), lr=0.001)\n",
        "\n",
        "for epoch in range(100):\n",
        "    model.train()\n",
        "    output = model(X)\n",
        "    loss = criterion(output, y)\n",
        "    optimizer.zero_grad()\n",
        "    loss.backward()\n",
        "    optimizer.step()\n",
        "    if epoch % 10 == 0:\n",
        "        print(f\"Epoch {epoch}, Loss: {loss.item():.4f}\")\n"
      ],
      "metadata": {
        "colab": {
          "base_uri": "https://localhost:8080/"
        },
        "id": "TwhXP7FThp3m",
        "outputId": "0b7b0347-0625-4ac6-ee58-038679571efb"
      },
      "execution_count": 16,
      "outputs": [
        {
          "output_type": "stream",
          "name": "stdout",
          "text": [
            "Epoch 0, Loss: 0.9883\n",
            "Epoch 10, Loss: 0.6749\n",
            "Epoch 20, Loss: 0.1456\n",
            "Epoch 30, Loss: 0.0407\n",
            "Epoch 40, Loss: 0.0235\n",
            "Epoch 50, Loss: 0.0223\n",
            "Epoch 60, Loss: 0.0170\n",
            "Epoch 70, Loss: 0.0127\n",
            "Epoch 80, Loss: 0.0099\n",
            "Epoch 90, Loss: 0.0078\n"
          ]
        }
      ]
    },
    {
      "cell_type": "markdown",
      "source": [
        "Forecast Next Day's Price"
      ],
      "metadata": {
        "id": "RTLCEs3sh3V_"
      }
    },
    {
      "cell_type": "code",
      "source": [
        "model.eval()\n",
        "last_sequence = X[-1].unsqueeze(0)  # shape: [1, 30, 1]\n",
        "predicted_scaled = model(last_sequence).item()\n",
        "\n",
        "# Convert back to actual price\n",
        "predicted_price = predicted_scaled * df['price'].std() + df['price'].mean()\n",
        "current_price = df['price'].iloc[-1]\n",
        "\n",
        "print(f\"Predicted next-day price for {ticker}: ${predicted_price:.2f}\")\n",
        "print(f\"Current price: ${current_price:.2f}\")\n",
        "expected_return = (predicted_price - current_price) / current_price\n",
        "print(f\"Expected return: {expected_return:.2%}\")\n"
      ],
      "metadata": {
        "colab": {
          "base_uri": "https://localhost:8080/"
        },
        "id": "EtH-tcFkhq6A",
        "outputId": "e0b94050-9c54-4976-d9e1-d964422adb7f"
      },
      "execution_count": 17,
      "outputs": [
        {
          "output_type": "stream",
          "name": "stdout",
          "text": [
            "Predicted next-day price for AAPL: $237.28\n",
            "Current price: $250.14\n",
            "Expected return: -5.14%\n"
          ]
        }
      ]
    },
    {
      "cell_type": "code",
      "source": [
        "plt.plot(df.index[-100:], df['price'][-100:], label=\"Historical Prices\")\n",
        "plt.axhline(predicted_price, color='red', linestyle='--', label='Predicted Price')\n",
        "plt.legend()\n",
        "plt.title(f\"{ticker} - Price Forecast\")\n",
        "plt.show()"
      ],
      "metadata": {
        "colab": {
          "base_uri": "https://localhost:8080/",
          "height": 452
        },
        "id": "ZHtdyGIOhvi1",
        "outputId": "48b3d2f1-5193-4d91-e426-84626b582b55"
      },
      "execution_count": 18,
      "outputs": [
        {
          "output_type": "display_data",
          "data": {
            "text/plain": [
              "<Figure size 640x480 with 1 Axes>"
            ],
            "image/png": "[encoded data removed]"
          },
          "metadata": {}
        }
      ]
    }
  ]
}