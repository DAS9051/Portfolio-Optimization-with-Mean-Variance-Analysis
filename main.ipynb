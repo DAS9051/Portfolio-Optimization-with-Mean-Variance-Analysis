{
 "cells": [
  {
   "cell_type": "markdown",
   "metadata": {},
   "source": [
    "ALL IMPORTS"
   ]
  },
  {
   "cell_type": "code",
   "execution_count": 2,
   "metadata": {},
   "outputs": [],
   "source": [
    "import yfinance as yf\n",
    "import pandas as pd\n",
    "import numpy as np\n",
    "import torch\n",
    "import torch.nn as nn\n",
    "from scipy.optimize import minimize\n",
    "import matplotlib.pyplot as plt\n",
    "from datetime import datetime\n"
   ]
  },
  {
   "cell_type": "markdown",
   "metadata": {},
   "source": [
    "Use GPU"
   ]
  },
  {
   "cell_type": "code",
   "execution_count": 3,
   "metadata": {},
   "outputs": [
    {
     "name": "stdout",
     "output_type": "stream",
     "text": [
      "✅ Using device: cuda\n"
     ]
    }
   ],
   "source": [
    "device = torch.device(\"cuda\" if torch.cuda.is_available() else \"cpu\")\n",
    "print(f\"✅ Using device: {device}\")\n"
   ]
  },
  {
   "cell_type": "markdown",
   "metadata": {},
   "source": [
    "LSTM MODEL CLASS"
   ]
  },
  {
   "cell_type": "code",
   "execution_count": 4,
   "metadata": {},
   "outputs": [],
   "source": [
    "class LSTMForecast(nn.Module):\n",
    "    def __init__(self, input_size=1, hidden_size=64, num_layers=2):\n",
    "        super().__init__()\n",
    "        self.lstm = nn.LSTM(input_size, hidden_size, num_layers, batch_first=True)\n",
    "        self.fc = nn.Linear(hidden_size, 1)\n",
    "\n",
    "    def forward(self, x):\n",
    "        out, _ = self.lstm(x)\n",
    "        out = self.fc(out[:, -1])\n",
    "        return out"
   ]
  },
  {
   "cell_type": "markdown",
   "metadata": {},
   "source": [
    "Forecast Return function (per ticker)"
   ]
  },
  {
   "cell_type": "code",
   "execution_count": 5,
   "metadata": {},
   "outputs": [],
   "source": [
    "def forecast_return(ticker, start_date, end_date, window_size=30, forecast_horizon=30):\n",
    "    try:\n",
    "        df = yf.download(ticker, start=start_date, end=end_date, progress=False)[[\"Close\"]].dropna()\n",
    "        df.columns = [\"price\"]\n",
    "        \n",
    "        mean = df['price'].mean()\n",
    "        std = df['price'].std()\n",
    "        scaled = (df['price'] - mean) / std\n",
    "        data = scaled.values.astype(np.float32)\n",
    "\n",
    "        sequences = []\n",
    "        for i in range(len(data) - window_size - forecast_horizon):\n",
    "            seq = data[i:i+window_size]\n",
    "            label = data[i+window_size+forecast_horizon-1]\n",
    "            sequences.append((seq, label))\n",
    "        if len(sequences) == 0:\n",
    "            return 0.0\n",
    "\n",
    "        X = torch.tensor(np.array([s[0] for s in sequences])).unsqueeze(-1).to(device)\n",
    "        y = torch.tensor(np.array([s[1] for s in sequences])).unsqueeze(-1).to(device)\n",
    "\n",
    "        model = LSTMForecast().to(device)\n",
    "        criterion = nn.MSELoss()\n",
    "        optimizer = torch.optim.Adam(model.parameters(), lr=0.001)\n",
    "\n",
    "        for epoch in range(50):\n",
    "            model.train()\n",
    "            output = model(X)\n",
    "            loss = criterion(output, y)\n",
    "            optimizer.zero_grad()\n",
    "            loss.backward()\n",
    "            optimizer.step()\n",
    "\n",
    "        model.eval()\n",
    "        recent_seq = torch.tensor(data[-window_size:]).unsqueeze(0).unsqueeze(-1).to(device)\n",
    "        pred_scaled = model(recent_seq).item()\n",
    "        pred_price = pred_scaled * std + mean\n",
    "        current_price = df[\"price\"].iloc[-1]\n",
    "        expected_return = (pred_price - current_price) / current_price\n",
    "        return expected_return\n",
    "    except:\n",
    "        return 0.0"
   ]
  },
  {
   "cell_type": "code",
   "execution_count": 6,
   "metadata": {},
   "outputs": [],
   "source": [
    "def get_optimal_portfolio(all_stocks, start_date, end_date, forecast_horizon=30, num_holdings=10):\n",
    "    returns_dict = {}\n",
    "    for stock in all_stocks:\n",
    "        r = forecast_return(stock, start_date, end_date, forecast_horizon=forecast_horizon)\n",
    "        returns_dict[stock] = r\n",
    "        # print(f\"{stock}: {r:.2%} expected return\")\n",
    "\n",
    "    # Sort and select top N\n",
    "    top_stocks = sorted(returns_dict.items(), key=lambda x: x[1], reverse=True)[:num_holdings]\n",
    "    selected_stocks = [s[0] for s in top_stocks]\n",
    "    selected_returns = np.array([s[1] for s in top_stocks])\n",
    "\n",
    "    # Get historical returns\n",
    "    price_data = yf.download(selected_stocks, start=start_date, end=end_date, progress=False)[\"Close\"]\n",
    "    price_data = price_data.dropna(axis=1, how='all')\n",
    "    returns = price_data.pct_change().dropna()\n",
    "    cov_matrix = returns.cov().values * 252\n",
    "\n",
    "    # Mean-variance optimization\n",
    "    num = len(selected_stocks)\n",
    "    init_weights = np.ones(num) / num\n",
    "    bounds = [(0, 1) for _ in range(num)]\n",
    "    constraints = {\"type\": \"eq\", \"fun\": lambda x: np.sum(x) - 1}\n",
    "\n",
    "    def portfolio_risk(w, r, c):\n",
    "        return np.sqrt(np.dot(w.T, np.dot(c, w)))\n",
    "\n",
    "    opt = minimize(portfolio_risk, init_weights, args=(selected_returns, cov_matrix),\n",
    "                   method='SLSQP', bounds=bounds, constraints=constraints)\n",
    "\n",
    "    optimal_weights = opt.x\n",
    "\n",
    "    print(\"\\nOptimal Portfolio Allocation:\")\n",
    "    for s, w in zip(selected_stocks, optimal_weights):\n",
    "        print(f\"{s}: {w:.2%}\")\n",
    "\n",
    "    return selected_stocks, optimal_weights, selected_returns\n"
   ]
  },
  {
   "cell_type": "markdown",
   "metadata": {},
   "source": [
    "Get High Volaility Stocks"
   ]
  },
  {
   "cell_type": "code",
   "execution_count": 7,
   "metadata": {},
   "outputs": [],
   "source": [
    "def get_high_volatility_stocks(tickers, start_date, end_date, top_n=5):\n",
    "    data = yf.download(tickers, start=start_date, end=end_date, progress=False)[\"Close\"]\n",
    "    data = data.dropna(axis=1, how='all')\n",
    "    daily_returns = data.pct_change().dropna()\n",
    "    vol = daily_returns.std() * np.sqrt(252)  # Annualized volatility\n",
    "\n",
    "    sorted_vol = vol.sort_values(ascending=False).head(top_n)\n",
    "    \n",
    "    print(\"\\nTop High Volatility Stocks:\")\n",
    "    for ticker, v in sorted_vol.items():\n",
    "        print(f\"{ticker}: {v:.2%} annualized volatility\")\n",
    "\n",
    "    return sorted_vol.index.tolist()\n"
   ]
  },
  {
   "cell_type": "markdown",
   "metadata": {},
   "source": [
    "Get S&p500"
   ]
  },
  {
   "cell_type": "code",
   "execution_count": 8,
   "metadata": {},
   "outputs": [],
   "source": [
    "def get_sp500():\n",
    "    tables = pd.read_html('https://en.wikipedia.org/wiki/List_of_S%26P_500_companies')\n",
    "    constituents = tables[0]\n",
    "    constituents = constituents.rename(columns={\"Symbol\": \"Ticker\", \"Security\": \"Company\"})\n",
    "    tickers = constituents[\"Ticker\"].tolist()\n",
    "    return tickers\n"
   ]
  },
  {
   "cell_type": "code",
   "execution_count": 10,
   "metadata": {},
   "outputs": [],
   "source": [
    "top_n = 30\n",
    "num_holdings = 5\n",
    "forecast_horizon = 30"
   ]
  },
  {
   "cell_type": "code",
   "execution_count": 11,
   "metadata": {},
   "outputs": [],
   "source": [
    "all_stocks = get_sp500()\n",
    "start_date = \"2020-01-01\"\n",
    "end_date = datetime.today().strftime(\"%Y-%m-%d\")"
   ]
  },
  {
   "cell_type": "code",
   "execution_count": 12,
   "metadata": {},
   "outputs": [
    {
     "name": "stdout",
     "output_type": "stream",
     "text": [
      "YF.download() has changed argument auto_adjust default to True\n"
     ]
    },
    {
     "name": "stderr",
     "output_type": "stream",
     "text": [
      "\n",
      "2 Failed downloads:\n",
      "['BRK.B']: YFTzMissingError('possibly delisted; no timezone found')\n",
      "['BF.B']: YFPricesMissingError('possibly delisted; no price data found  (1d 2020-01-01 -> 2025-03-29)')\n"
     ]
    },
    {
     "name": "stdout",
     "output_type": "stream",
     "text": [
      "\n",
      "Top High Volatility Stocks:\n",
      "SMCI: 122.24% annualized volatility\n",
      "VST: 76.76% annualized volatility\n",
      "PLTR: 72.98% annualized volatility\n",
      "TSLA: 71.84% annualized volatility\n",
      "CEG: 71.47% annualized volatility\n",
      "MRNA: 69.36% annualized volatility\n",
      "WBA: 66.19% annualized volatility\n",
      "INTC: 64.59% annualized volatility\n",
      "AVGO: 62.81% annualized volatility\n",
      "MPWR: 62.24% annualized volatility\n",
      "ENPH: 61.70% annualized volatility\n",
      "DXCM: 61.02% annualized volatility\n",
      "WST: 60.40% annualized volatility\n",
      "AXON: 60.22% annualized volatility\n",
      "MU: 59.91% annualized volatility\n",
      "NVDA: 57.76% annualized volatility\n",
      "GEV: 57.35% annualized volatility\n",
      "ALB: 53.79% annualized volatility\n",
      "LW: 53.78% annualized volatility\n",
      "ANET: 52.72% annualized volatility\n",
      "WSM: 52.59% annualized volatility\n",
      "WBD: 52.01% annualized volatility\n",
      "FSLR: 51.95% annualized volatility\n",
      "TER: 51.84% annualized volatility\n",
      "ON: 50.92% annualized volatility\n",
      "CRWD: 50.42% annualized volatility\n",
      "LRCX: 49.30% annualized volatility\n",
      "DLTR: 49.28% annualized volatility\n",
      "TPL: 49.26% annualized volatility\n",
      "DG: 49.19% annualized volatility\n",
      "\n",
      "Optimal Portfolio Allocation:\n",
      "MRNA: 36.10%\n",
      "SMCI: 21.48%\n",
      "DXCM: 27.46%\n",
      "ANET: 11.60%\n",
      "AXON: 3.36%\n"
     ]
    }
   ],
   "source": [
    "high_vol_stocks = get_high_volatility_stocks(all_stocks, start_date, end_date, top_n=top_n)\n",
    "high_stocks, high_weights, high_returns = get_optimal_portfolio(\n",
    "    high_vol_stocks, start_date, end_date, forecast_horizon=forecast_horizon, num_holdings=num_holdings)\n"
   ]
  },
  {
   "cell_type": "code",
   "execution_count": null,
   "metadata": {},
   "outputs": [
    {
     "name": "stderr",
     "output_type": "stream",
     "text": [
      "[*********************100%***********************]  1 of 1 completed\n",
      "[*********************100%***********************]  1 of 1 completed"
     ]
    },
    {
     "name": "stdout",
     "output_type": "stream",
     "text": [
      "AAPL: 2.27% expected return\n"
     ]
    },
    {
     "name": "stderr",
     "output_type": "stream",
     "text": [
      "\n",
      "[*********************100%***********************]  1 of 1 completed"
     ]
    },
    {
     "name": "stdout",
     "output_type": "stream",
     "text": [
      "MSFT: 6.12% expected return\n"
     ]
    },
    {
     "name": "stderr",
     "output_type": "stream",
     "text": [
      "\n",
      "[*********************100%***********************]  1 of 1 completed"
     ]
    },
    {
     "name": "stdout",
     "output_type": "stream",
     "text": [
      "GOOGL: 8.15% expected return\n"
     ]
    },
    {
     "name": "stderr",
     "output_type": "stream",
     "text": [
      "\n",
      "[*********************100%***********************]  1 of 1 completed"
     ]
    },
    {
     "name": "stdout",
     "output_type": "stream",
     "text": [
      "TSLA: -0.35% expected return\n"
     ]
    },
    {
     "name": "stderr",
     "output_type": "stream",
     "text": [
      "\n",
      "[*********************100%***********************]  1 of 1 completed"
     ]
    },
    {
     "name": "stdout",
     "output_type": "stream",
     "text": [
      "AMZN: 4.42% expected return\n"
     ]
    },
    {
     "name": "stderr",
     "output_type": "stream",
     "text": [
      "\n",
      "[*********************100%***********************]  1 of 1 completed"
     ]
    },
    {
     "name": "stdout",
     "output_type": "stream",
     "text": [
      "NVDA: 14.44% expected return\n"
     ]
    },
    {
     "name": "stderr",
     "output_type": "stream",
     "text": [
      "\n",
      "[*********************100%***********************]  1 of 1 completed"
     ]
    },
    {
     "name": "stdout",
     "output_type": "stream",
     "text": [
      "JNJ: -5.20% expected return\n"
     ]
    },
    {
     "name": "stderr",
     "output_type": "stream",
     "text": [
      "\n",
      "[*********************100%***********************]  1 of 1 completed"
     ]
    },
    {
     "name": "stdout",
     "output_type": "stream",
     "text": [
      "JPM: 3.40% expected return\n"
     ]
    },
    {
     "name": "stderr",
     "output_type": "stream",
     "text": [
      "\n",
      "[*********************100%***********************]  1 of 1 completed"
     ]
    },
    {
     "name": "stdout",
     "output_type": "stream",
     "text": [
      "DIS: 4.40% expected return\n"
     ]
    },
    {
     "name": "stderr",
     "output_type": "stream",
     "text": [
      "\n",
      "[*********************100%***********************]  1 of 1 completed"
     ]
    },
    {
     "name": "stdout",
     "output_type": "stream",
     "text": [
      "XOM: -7.60% expected return\n"
     ]
    },
    {
     "name": "stderr",
     "output_type": "stream",
     "text": [
      "\n",
      "[*********************100%***********************]  1 of 1 completed"
     ]
    },
    {
     "name": "stdout",
     "output_type": "stream",
     "text": [
      "PFE: 4.46% expected return\n"
     ]
    },
    {
     "name": "stderr",
     "output_type": "stream",
     "text": [
      "\n",
      "[*********************100%***********************]  5 of 5 completed"
     ]
    },
    {
     "name": "stdout",
     "output_type": "stream",
     "text": [
      "TGT: 11.53% expected return\n",
      "\n",
      "Optimal Portfolio Allocation:\n",
      "NVDA: 15.79%\n",
      "TGT: 18.95%\n",
      "GOOGL: 0.00%\n",
      "MSFT: 47.29%\n",
      "PFE: 17.97%\n"
     ]
    },
    {
     "name": "stderr",
     "output_type": "stream",
     "text": [
      "\n"
     ]
    }
   ],
   "source": [
    "reg_stocks, reg_weights, reg_returns = get_optimal_portfolio(\n",
    "    all_stocks, start_date, end_date, forecast_horizon=forecast_horizon, num_holdings=num_holdings)"
   ]
  },
  {
   "cell_type": "markdown",
   "metadata": {},
   "source": [
    "BACKTESTING!!!"
   ]
  },
  {
   "cell_type": "markdown",
   "metadata": {},
   "source": [
    "Backtest High voltailty!!!"
   ]
  },
  {
   "cell_type": "code",
   "execution_count": 13,
   "metadata": {},
   "outputs": [
    {
     "name": "stderr",
     "output_type": "stream",
     "text": [
      "\n",
      "182 Failed downloads:\n",
      "['BRK.B']: YFTzMissingError('possibly delisted; no timezone found')\n",
      "['BF.B']: YFPricesMissingError('possibly delisted; no price data found  (1d 2020-01-01 -> 2025-01-01)')\n",
      "['HOLX', 'HCA', 'RMD', 'IP', 'EQIX', 'EBAY', 'CBRE', 'BMY', 'PM', 'LMT', 'MKTX', 'SW', 'OTIS', 'LNT', 'MSCI', 'MA', 'FTV', 'COST', 'SNPS', 'DAY', 'HST', 'CCL', 'PTC', 'SJM', 'PPG', 'AMCR', 'TRGP', 'C', 'CRL', 'LVS', 'ROP', 'CEG', 'BLDR', 'CRM', 'AIG', 'VST', 'NWS', 'ECL', 'CVX', 'LLY', 'ODFL', 'CPAY', 'KDP', 'DGX', 'PCG', 'BAC', 'WST', 'EG', 'BK', 'LEN', 'BAX', 'MCD', 'ETR', 'KKR', 'POOL', 'ENPH', 'LW', 'CAH', 'AOS', 'PCAR', 'LOW', 'NKE', 'UHS', 'GL', 'GPC', 'WFC', 'PLTR', 'SCHW', 'LIN', 'STE', 'HPQ', 'ISRG', 'FITB', 'MAA', 'PYPL', 'DRI', 'REG', 'DAL', 'TXT', 'MNST', 'TRV', 'ZBH', 'MLM', 'CMS', 'LKQ', 'ESS', 'DOW', 'CF', 'PWR', 'CTVA', 'DHR', 'ABT', 'VTR', 'PPL', 'PANW', 'FFIV', 'WBD', 'SPGI', 'ED', 'HUM', 'TTWO', 'SOLV', 'JKHY', 'HD', 'KLAC', 'OKE', 'FOX', 'CPT', 'PNW', 'KEYS', 'MAR', 'ATO', 'ANSS', 'UPS', 'MO', 'MSI', 'EA', 'MTD', 'FE', 'KEY', 'BIIB', 'REGN', 'CPB', 'MDT', 'SNA', 'IVZ', 'BEN', 'ABNB', 'ADP', 'DOV', 'CSCO', 'MTCH', 'CBOE', 'GWW', 'AAPL', 'CDNS', 'CRWD', 'NI', 'GRMN', 'MCO', 'ADI', 'DUK', 'AIZ', 'EPAM', 'TER', 'INCY', 'GNRC', 'SYY', 'NRG', 'VLTO', 'BLK', 'PNR', 'VTRS', 'NXPI', 'APH', 'AKAM', 'PEP', 'A', 'WYNN', 'HWM', 'ON', 'PFE', 'GIS', 'JNJ', 'BRO', 'WAT', 'DLR', 'ADBE', 'AES', 'D', 'DECK', 'AMGN', 'CZR', 'IBM', 'ACGL', 'DHI', 'WMB', 'RSG', 'AMAT', 'ITW']: YFRateLimitError('Too Many Requests. Rate limited. Try after a while.')\n"
     ]
    },
    {
     "name": "stdout",
     "output_type": "stream",
     "text": [
      "\n",
      "Top High Volatility Stocks:\n",
      "SMCI: 112.50% annualized volatility\n",
      "TSLA: 67.84% annualized volatility\n",
      "MRNA: 60.57% annualized volatility\n",
      "DXCM: 59.53% annualized volatility\n",
      "AVGO: 58.04% annualized volatility\n",
      "WBA: 56.76% annualized volatility\n",
      "FSLR: 56.13% annualized volatility\n",
      "MPWR: 55.90% annualized volatility\n",
      "ALB: 54.58% annualized volatility\n",
      "DELL: 54.40% annualized volatility\n",
      "INTC: 54.33% annualized volatility\n",
      "MU: 53.06% annualized volatility\n",
      "NVDA: 52.89% annualized volatility\n",
      "WSM: 52.81% annualized volatility\n",
      "TPL: 51.44% annualized volatility\n",
      "PARA: 51.32% annualized volatility\n",
      "NCLH: 48.73% annualized volatility\n",
      "AXON: 48.07% annualized volatility\n",
      "GEV: 47.86% annualized volatility\n",
      "DG: 47.79% annualized volatility\n",
      "LRCX: 46.26% annualized volatility\n",
      "UAL: 45.96% annualized volatility\n",
      "AMD: 45.91% annualized volatility\n",
      "EL: 44.23% annualized volatility\n",
      "EW: 43.91% annualized volatility\n",
      "DLTR: 42.28% annualized volatility\n",
      "MHK: 42.19% annualized volatility\n",
      "MOH: 42.05% annualized volatility\n",
      "SBUX: 41.89% annualized volatility\n",
      "ANET: 41.69% annualized volatility\n"
     ]
    },
    {
     "name": "stderr",
     "output_type": "stream",
     "text": [
      "\n",
      "1 Failed download:\n",
      "['SMCI']: YFRateLimitError('Too Many Requests. Rate limited. Try after a while.')\n",
      "\n",
      "1 Failed download:\n",
      "['TSLA']: YFRateLimitError('Too Many Requests. Rate limited. Try after a while.')\n",
      "\n",
      "1 Failed download:\n",
      "['MRNA']: YFRateLimitError('Too Many Requests. Rate limited. Try after a while.')\n",
      "\n",
      "1 Failed download:\n",
      "['DXCM']: YFRateLimitError('Too Many Requests. Rate limited. Try after a while.')\n",
      "\n",
      "1 Failed download:\n",
      "['AVGO']: YFRateLimitError('Too Many Requests. Rate limited. Try after a while.')\n",
      "\n",
      "1 Failed download:\n",
      "['WBA']: YFRateLimitError('Too Many Requests. Rate limited. Try after a while.')\n",
      "\n",
      "1 Failed download:\n",
      "['MPWR']: YFRateLimitError('Too Many Requests. Rate limited. Try after a while.')\n",
      "\n",
      "1 Failed download:\n",
      "['DELL']: YFRateLimitError('Too Many Requests. Rate limited. Try after a while.')\n",
      "\n",
      "1 Failed download:\n",
      "['MU']: YFRateLimitError('Too Many Requests. Rate limited. Try after a while.')\n",
      "\n",
      "1 Failed download:\n",
      "['WSM']: YFRateLimitError('Too Many Requests. Rate limited. Try after a while.')\n",
      "\n",
      "1 Failed download:\n",
      "['TPL']: YFRateLimitError('Too Many Requests. Rate limited. Try after a while.')\n",
      "\n",
      "1 Failed download:\n",
      "['PARA']: YFRateLimitError('Too Many Requests. Rate limited. Try after a while.')\n",
      "\n",
      "1 Failed download:\n",
      "['NCLH']: YFRateLimitError('Too Many Requests. Rate limited. Try after a while.')\n",
      "\n",
      "1 Failed download:\n",
      "['AXON']: YFRateLimitError('Too Many Requests. Rate limited. Try after a while.')\n",
      "\n",
      "1 Failed download:\n",
      "['GEV']: YFRateLimitError('Too Many Requests. Rate limited. Try after a while.')\n",
      "\n",
      "1 Failed download:\n",
      "['LRCX']: YFRateLimitError('Too Many Requests. Rate limited. Try after a while.')\n",
      "\n",
      "1 Failed download:\n",
      "['UAL']: YFRateLimitError('Too Many Requests. Rate limited. Try after a while.')\n",
      "\n",
      "1 Failed download:\n",
      "['AMD']: YFRateLimitError('Too Many Requests. Rate limited. Try after a while.')\n",
      "\n",
      "1 Failed download:\n",
      "['EL']: YFRateLimitError('Too Many Requests. Rate limited. Try after a while.')\n",
      "\n",
      "1 Failed download:\n",
      "['EW']: YFRateLimitError('Too Many Requests. Rate limited. Try after a while.')\n",
      "\n",
      "1 Failed download:\n",
      "['DLTR']: YFRateLimitError('Too Many Requests. Rate limited. Try after a while.')\n",
      "\n",
      "1 Failed download:\n",
      "['MHK']: YFRateLimitError('Too Many Requests. Rate limited. Try after a while.')\n",
      "\n",
      "1 Failed download:\n",
      "['MOH']: YFRateLimitError('Too Many Requests. Rate limited. Try after a while.')\n",
      "\n",
      "1 Failed download:\n",
      "['SBUX']: YFRateLimitError('Too Many Requests. Rate limited. Try after a while.')\n",
      "\n",
      "1 Failed download:\n",
      "['ANET']: YFRateLimitError('Too Many Requests. Rate limited. Try after a while.')\n",
      "\n",
      "1 Failed download:\n",
      "['SMCI']: YFRateLimitError('Too Many Requests. Rate limited. Try after a while.')\n"
     ]
    },
    {
     "ename": "ValueError",
     "evalue": "shapes (4,4) and (5,) not aligned: 4 (dim 1) != 5 (dim 0)",
     "output_type": "error",
     "traceback": [
      "\u001b[31m---------------------------------------------------------------------------\u001b[39m",
      "\u001b[31mValueError\u001b[39m                                Traceback (most recent call last)",
      "\u001b[36mCell\u001b[39m\u001b[36m \u001b[39m\u001b[32mIn[13]\u001b[39m\u001b[32m, line 8\u001b[39m\n\u001b[32m      4\u001b[39m high_vol_stocks = get_high_volatility_stocks(\n\u001b[32m      5\u001b[39m     all_stocks, start_date, strategy_cutoff, top_n=top_n  \u001b[38;5;66;03m# or any number you like\u001b[39;00m\n\u001b[32m      6\u001b[39m )\n\u001b[32m      7\u001b[39m \u001b[38;5;66;03m# Run portfolio selection using data *before* Jan 1, 2025\u001b[39;00m\n\u001b[32m----> \u001b[39m\u001b[32m8\u001b[39m past_selected, past_weights, _ = \u001b[43mget_optimal_portfolio\u001b[49m\u001b[43m(\u001b[49m\n\u001b[32m      9\u001b[39m \u001b[43m    \u001b[49m\u001b[43mhigh_vol_stocks\u001b[49m\u001b[43m,\u001b[49m\u001b[43m \u001b[49m\u001b[43mstart_date\u001b[49m\u001b[43m,\u001b[49m\u001b[43m \u001b[49m\u001b[43mstrategy_cutoff\u001b[49m\u001b[43m,\u001b[49m\u001b[43m \u001b[49m\u001b[43mforecast_horizon\u001b[49m\u001b[43m=\u001b[49m\u001b[43mforecast_horizon\u001b[49m\u001b[43m,\u001b[49m\u001b[43m \u001b[49m\u001b[43mnum_holdings\u001b[49m\u001b[43m=\u001b[49m\u001b[43mnum_holdings\u001b[49m\n\u001b[32m     10\u001b[39m \u001b[43m)\u001b[49m\n\u001b[32m     12\u001b[39m \u001b[38;5;66;03m# Download price data from Jan 1, 2025 to today for backtest\u001b[39;00m\n\u001b[32m     13\u001b[39m future_prices = yf.download(past_selected, start=strategy_cutoff, end=today, progress=\u001b[38;5;28;01mFalse\u001b[39;00m)[\u001b[33m\"\u001b[39m\u001b[33mClose\u001b[39m\u001b[33m\"\u001b[39m]\n",
      "\u001b[36mCell\u001b[39m\u001b[36m \u001b[39m\u001b[32mIn[6]\u001b[39m\u001b[32m, line 28\u001b[39m, in \u001b[36mget_optimal_portfolio\u001b[39m\u001b[34m(all_stocks, start_date, end_date, forecast_horizon, num_holdings)\u001b[39m\n\u001b[32m     25\u001b[39m \u001b[38;5;28;01mdef\u001b[39;00m\u001b[38;5;250m \u001b[39m\u001b[34mportfolio_risk\u001b[39m(w, r, c):\n\u001b[32m     26\u001b[39m     \u001b[38;5;28;01mreturn\u001b[39;00m np.sqrt(np.dot(w.T, np.dot(c, w)))\n\u001b[32m---> \u001b[39m\u001b[32m28\u001b[39m opt = \u001b[43mminimize\u001b[49m\u001b[43m(\u001b[49m\u001b[43mportfolio_risk\u001b[49m\u001b[43m,\u001b[49m\u001b[43m \u001b[49m\u001b[43minit_weights\u001b[49m\u001b[43m,\u001b[49m\u001b[43m \u001b[49m\u001b[43margs\u001b[49m\u001b[43m=\u001b[49m\u001b[43m(\u001b[49m\u001b[43mselected_returns\u001b[49m\u001b[43m,\u001b[49m\u001b[43m \u001b[49m\u001b[43mcov_matrix\u001b[49m\u001b[43m)\u001b[49m\u001b[43m,\u001b[49m\n\u001b[32m     29\u001b[39m \u001b[43m               \u001b[49m\u001b[43mmethod\u001b[49m\u001b[43m=\u001b[49m\u001b[33;43m'\u001b[39;49m\u001b[33;43mSLSQP\u001b[39;49m\u001b[33;43m'\u001b[39;49m\u001b[43m,\u001b[49m\u001b[43m \u001b[49m\u001b[43mbounds\u001b[49m\u001b[43m=\u001b[49m\u001b[43mbounds\u001b[49m\u001b[43m,\u001b[49m\u001b[43m \u001b[49m\u001b[43mconstraints\u001b[49m\u001b[43m=\u001b[49m\u001b[43mconstraints\u001b[49m\u001b[43m)\u001b[49m\n\u001b[32m     31\u001b[39m optimal_weights = opt.x\n\u001b[32m     33\u001b[39m \u001b[38;5;28mprint\u001b[39m(\u001b[33m\"\u001b[39m\u001b[38;5;130;01m\\n\u001b[39;00m\u001b[33mOptimal Portfolio Allocation:\u001b[39m\u001b[33m\"\u001b[39m)\n",
      "\u001b[36mFile \u001b[39m\u001b[32mc:\\Users\\Dylan\\Desktop\\school and coding\\quant\\Portfolio-Optimization-with-Mean-Variance-Analysis\\venv-gpu\\Lib\\site-packages\\scipy\\optimize\\_minimize.py:750\u001b[39m, in \u001b[36mminimize\u001b[39m\u001b[34m(fun, x0, args, method, jac, hess, hessp, bounds, constraints, tol, callback, options)\u001b[39m\n\u001b[32m    747\u001b[39m     res = _minimize_cobyqa(fun, x0, args, bounds, constraints, callback,\n\u001b[32m    748\u001b[39m                            **options)\n\u001b[32m    749\u001b[39m \u001b[38;5;28;01melif\u001b[39;00m meth == \u001b[33m'\u001b[39m\u001b[33mslsqp\u001b[39m\u001b[33m'\u001b[39m:\n\u001b[32m--> \u001b[39m\u001b[32m750\u001b[39m     res = \u001b[43m_minimize_slsqp\u001b[49m\u001b[43m(\u001b[49m\u001b[43mfun\u001b[49m\u001b[43m,\u001b[49m\u001b[43m \u001b[49m\u001b[43mx0\u001b[49m\u001b[43m,\u001b[49m\u001b[43m \u001b[49m\u001b[43margs\u001b[49m\u001b[43m,\u001b[49m\u001b[43m \u001b[49m\u001b[43mjac\u001b[49m\u001b[43m,\u001b[49m\u001b[43m \u001b[49m\u001b[43mbounds\u001b[49m\u001b[43m,\u001b[49m\n\u001b[32m    751\u001b[39m \u001b[43m                          \u001b[49m\u001b[43mconstraints\u001b[49m\u001b[43m,\u001b[49m\u001b[43m \u001b[49m\u001b[43mcallback\u001b[49m\u001b[43m=\u001b[49m\u001b[43mcallback\u001b[49m\u001b[43m,\u001b[49m\u001b[43m \u001b[49m\u001b[43m*\u001b[49m\u001b[43m*\u001b[49m\u001b[43moptions\u001b[49m\u001b[43m)\u001b[49m\n\u001b[32m    752\u001b[39m \u001b[38;5;28;01melif\u001b[39;00m meth == \u001b[33m'\u001b[39m\u001b[33mtrust-constr\u001b[39m\u001b[33m'\u001b[39m:\n\u001b[32m    753\u001b[39m     res = _minimize_trustregion_constr(fun, x0, args, jac, hess, hessp,\n\u001b[32m    754\u001b[39m                                        bounds, constraints,\n\u001b[32m    755\u001b[39m                                        callback=callback, **options)\n",
      "\u001b[36mFile \u001b[39m\u001b[32mc:\\Users\\Dylan\\Desktop\\school and coding\\quant\\Portfolio-Optimization-with-Mean-Variance-Analysis\\venv-gpu\\Lib\\site-packages\\scipy\\optimize\\_slsqp_py.py:381\u001b[39m, in \u001b[36m_minimize_slsqp\u001b[39m\u001b[34m(func, x0, args, jac, bounds, constraints, maxiter, ftol, iprint, disp, eps, callback, finite_diff_rel_step, **unknown_options)\u001b[39m\n\u001b[32m    378\u001b[39m     xu[infbnd[:, \u001b[32m1\u001b[39m]] = np.nan\n\u001b[32m    380\u001b[39m \u001b[38;5;66;03m# ScalarFunction provides function and gradient evaluation\u001b[39;00m\n\u001b[32m--> \u001b[39m\u001b[32m381\u001b[39m sf = \u001b[43m_prepare_scalar_function\u001b[49m\u001b[43m(\u001b[49m\u001b[43mfunc\u001b[49m\u001b[43m,\u001b[49m\u001b[43m \u001b[49m\u001b[43mx\u001b[49m\u001b[43m,\u001b[49m\u001b[43m \u001b[49m\u001b[43mjac\u001b[49m\u001b[43m=\u001b[49m\u001b[43mjac\u001b[49m\u001b[43m,\u001b[49m\u001b[43m \u001b[49m\u001b[43margs\u001b[49m\u001b[43m=\u001b[49m\u001b[43margs\u001b[49m\u001b[43m,\u001b[49m\u001b[43m \u001b[49m\u001b[43mepsilon\u001b[49m\u001b[43m=\u001b[49m\u001b[43meps\u001b[49m\u001b[43m,\u001b[49m\n\u001b[32m    382\u001b[39m \u001b[43m                              \u001b[49m\u001b[43mfinite_diff_rel_step\u001b[49m\u001b[43m=\u001b[49m\u001b[43mfinite_diff_rel_step\u001b[49m\u001b[43m,\u001b[49m\n\u001b[32m    383\u001b[39m \u001b[43m                              \u001b[49m\u001b[43mbounds\u001b[49m\u001b[43m=\u001b[49m\u001b[43mnew_bounds\u001b[49m\u001b[43m)\u001b[49m\n\u001b[32m    384\u001b[39m \u001b[38;5;66;03m# gh11403 SLSQP sometimes exceeds bounds by 1 or 2 ULP, make sure this\u001b[39;00m\n\u001b[32m    385\u001b[39m \u001b[38;5;66;03m# doesn't get sent to the func/grad evaluator.\u001b[39;00m\n\u001b[32m    386\u001b[39m wrapped_fun = _clip_x_for_func(sf.fun, new_bounds)\n",
      "\u001b[36mFile \u001b[39m\u001b[32mc:\\Users\\Dylan\\Desktop\\school and coding\\quant\\Portfolio-Optimization-with-Mean-Variance-Analysis\\venv-gpu\\Lib\\site-packages\\scipy\\optimize\\_optimize.py:291\u001b[39m, in \u001b[36m_prepare_scalar_function\u001b[39m\u001b[34m(fun, x0, jac, args, bounds, epsilon, finite_diff_rel_step, hess)\u001b[39m\n\u001b[32m    287\u001b[39m     bounds = (-np.inf, np.inf)\n\u001b[32m    289\u001b[39m \u001b[38;5;66;03m# ScalarFunction caches. Reuse of fun(x) during grad\u001b[39;00m\n\u001b[32m    290\u001b[39m \u001b[38;5;66;03m# calculation reduces overall function evaluations.\u001b[39;00m\n\u001b[32m--> \u001b[39m\u001b[32m291\u001b[39m sf = \u001b[43mScalarFunction\u001b[49m\u001b[43m(\u001b[49m\u001b[43mfun\u001b[49m\u001b[43m,\u001b[49m\u001b[43m \u001b[49m\u001b[43mx0\u001b[49m\u001b[43m,\u001b[49m\u001b[43m \u001b[49m\u001b[43margs\u001b[49m\u001b[43m,\u001b[49m\u001b[43m \u001b[49m\u001b[43mgrad\u001b[49m\u001b[43m,\u001b[49m\u001b[43m \u001b[49m\u001b[43mhess\u001b[49m\u001b[43m,\u001b[49m\n\u001b[32m    292\u001b[39m \u001b[43m                    \u001b[49m\u001b[43mfinite_diff_rel_step\u001b[49m\u001b[43m,\u001b[49m\u001b[43m \u001b[49m\u001b[43mbounds\u001b[49m\u001b[43m,\u001b[49m\u001b[43m \u001b[49m\u001b[43mepsilon\u001b[49m\u001b[43m=\u001b[49m\u001b[43mepsilon\u001b[49m\u001b[43m)\u001b[49m\n\u001b[32m    294\u001b[39m \u001b[38;5;28;01mreturn\u001b[39;00m sf\n",
      "\u001b[36mFile \u001b[39m\u001b[32mc:\\Users\\Dylan\\Desktop\\school and coding\\quant\\Portfolio-Optimization-with-Mean-Variance-Analysis\\venv-gpu\\Lib\\site-packages\\scipy\\optimize\\_differentiable_functions.py:223\u001b[39m, in \u001b[36mScalarFunction.__init__\u001b[39m\u001b[34m(self, fun, x0, args, grad, hess, finite_diff_rel_step, finite_diff_bounds, epsilon)\u001b[39m\n\u001b[32m    220\u001b[39m     finite_diff_options[\u001b[33m\"\u001b[39m\u001b[33mas_linear_operator\u001b[39m\u001b[33m\"\u001b[39m] = \u001b[38;5;28;01mTrue\u001b[39;00m\n\u001b[32m    222\u001b[39m \u001b[38;5;66;03m# Initial function evaluation\u001b[39;00m\n\u001b[32m--> \u001b[39m\u001b[32m223\u001b[39m \u001b[38;5;28;43mself\u001b[39;49m\u001b[43m.\u001b[49m\u001b[43m_update_fun\u001b[49m\u001b[43m(\u001b[49m\u001b[43m)\u001b[49m\n\u001b[32m    225\u001b[39m \u001b[38;5;66;03m# Initial gradient evaluation\u001b[39;00m\n\u001b[32m    226\u001b[39m \u001b[38;5;28mself\u001b[39m._wrapped_grad, \u001b[38;5;28mself\u001b[39m._ngev = _wrapper_grad(\n\u001b[32m    227\u001b[39m     grad,\n\u001b[32m    228\u001b[39m     fun=\u001b[38;5;28mself\u001b[39m._wrapped_fun,\n\u001b[32m    229\u001b[39m     args=args,\n\u001b[32m    230\u001b[39m     finite_diff_options=finite_diff_options\n\u001b[32m    231\u001b[39m )\n",
      "\u001b[36mFile \u001b[39m\u001b[32mc:\\Users\\Dylan\\Desktop\\school and coding\\quant\\Portfolio-Optimization-with-Mean-Variance-Analysis\\venv-gpu\\Lib\\site-packages\\scipy\\optimize\\_differentiable_functions.py:295\u001b[39m, in \u001b[36mScalarFunction._update_fun\u001b[39m\u001b[34m(self)\u001b[39m\n\u001b[32m    293\u001b[39m \u001b[38;5;28;01mdef\u001b[39;00m\u001b[38;5;250m \u001b[39m\u001b[34m_update_fun\u001b[39m(\u001b[38;5;28mself\u001b[39m):\n\u001b[32m    294\u001b[39m     \u001b[38;5;28;01mif\u001b[39;00m \u001b[38;5;129;01mnot\u001b[39;00m \u001b[38;5;28mself\u001b[39m.f_updated:\n\u001b[32m--> \u001b[39m\u001b[32m295\u001b[39m         fx = \u001b[38;5;28;43mself\u001b[39;49m\u001b[43m.\u001b[49m\u001b[43m_wrapped_fun\u001b[49m\u001b[43m(\u001b[49m\u001b[38;5;28;43mself\u001b[39;49m\u001b[43m.\u001b[49m\u001b[43mx\u001b[49m\u001b[43m)\u001b[49m\n\u001b[32m    296\u001b[39m         \u001b[38;5;28;01mif\u001b[39;00m fx < \u001b[38;5;28mself\u001b[39m._lowest_f:\n\u001b[32m    297\u001b[39m             \u001b[38;5;28mself\u001b[39m._lowest_x = \u001b[38;5;28mself\u001b[39m.x\n",
      "\u001b[36mFile \u001b[39m\u001b[32mc:\\Users\\Dylan\\Desktop\\school and coding\\quant\\Portfolio-Optimization-with-Mean-Variance-Analysis\\venv-gpu\\Lib\\site-packages\\scipy\\optimize\\_differentiable_functions.py:21\u001b[39m, in \u001b[36m_wrapper_fun.<locals>.wrapped\u001b[39m\u001b[34m(x)\u001b[39m\n\u001b[32m     17\u001b[39m ncalls[\u001b[32m0\u001b[39m] += \u001b[32m1\u001b[39m\n\u001b[32m     18\u001b[39m \u001b[38;5;66;03m# Send a copy because the user may overwrite it.\u001b[39;00m\n\u001b[32m     19\u001b[39m \u001b[38;5;66;03m# Overwriting results in undefined behaviour because\u001b[39;00m\n\u001b[32m     20\u001b[39m \u001b[38;5;66;03m# fun(self.x) will change self.x, with the two no longer linked.\u001b[39;00m\n\u001b[32m---> \u001b[39m\u001b[32m21\u001b[39m fx = \u001b[43mfun\u001b[49m\u001b[43m(\u001b[49m\u001b[43mnp\u001b[49m\u001b[43m.\u001b[49m\u001b[43mcopy\u001b[49m\u001b[43m(\u001b[49m\u001b[43mx\u001b[49m\u001b[43m)\u001b[49m\u001b[43m,\u001b[49m\u001b[43m \u001b[49m\u001b[43m*\u001b[49m\u001b[43margs\u001b[49m\u001b[43m)\u001b[49m\n\u001b[32m     22\u001b[39m \u001b[38;5;66;03m# Make sure the function returns a true scalar\u001b[39;00m\n\u001b[32m     23\u001b[39m \u001b[38;5;28;01mif\u001b[39;00m \u001b[38;5;129;01mnot\u001b[39;00m np.isscalar(fx):\n",
      "\u001b[36mCell\u001b[39m\u001b[36m \u001b[39m\u001b[32mIn[6]\u001b[39m\u001b[32m, line 26\u001b[39m, in \u001b[36mget_optimal_portfolio.<locals>.portfolio_risk\u001b[39m\u001b[34m(w, r, c)\u001b[39m\n\u001b[32m     25\u001b[39m \u001b[38;5;28;01mdef\u001b[39;00m\u001b[38;5;250m \u001b[39m\u001b[34mportfolio_risk\u001b[39m(w, r, c):\n\u001b[32m---> \u001b[39m\u001b[32m26\u001b[39m     \u001b[38;5;28;01mreturn\u001b[39;00m np.sqrt(np.dot(w.T, \u001b[43mnp\u001b[49m\u001b[43m.\u001b[49m\u001b[43mdot\u001b[49m\u001b[43m(\u001b[49m\u001b[43mc\u001b[49m\u001b[43m,\u001b[49m\u001b[43m \u001b[49m\u001b[43mw\u001b[49m\u001b[43m)\u001b[49m))\n",
      "\u001b[31mValueError\u001b[39m: shapes (4,4) and (5,) not aligned: 4 (dim 1) != 5 (dim 0)"
     ]
    }
   ],
   "source": [
    "strategy_cutoff = \"2025-01-01\"\n",
    "today = datetime.today().strftime(\"%Y-%m-%d\")\n",
    "\n",
    "high_vol_stocks = get_high_volatility_stocks(\n",
    "    all_stocks, start_date, strategy_cutoff, top_n=top_n  # or any number you like\n",
    ")\n",
    "# Run portfolio selection using data *before* Jan 1, 2025\n",
    "past_selected, past_weights, _ = get_optimal_portfolio(\n",
    "    high_vol_stocks, start_date, strategy_cutoff, forecast_horizon=forecast_horizon, num_holdings=num_holdings\n",
    ")\n",
    "\n",
    "# Download price data from Jan 1, 2025 to today for backtest\n",
    "future_prices = yf.download(past_selected, start=strategy_cutoff, end=today, progress=False)[\"Close\"]\n",
    "future_prices = future_prices.dropna(axis=1, how='all')\n",
    "returns = future_prices.pct_change().dropna()\n",
    "\n",
    "# Calculate portfolio value over time\n",
    "weighted_returns = returns @ past_weights\n",
    "cumulative_return = (1 + weighted_returns).cumprod()\n",
    "\n",
    "# Plot results\n",
    "plt.figure(figsize=(10, 5))\n",
    "plt.plot(cumulative_return, label=\"Simulated Portfolio Value For High Voltailty\")\n",
    "plt.title(\"Backtest: Portfolio Performance Since Jan 2025\")\n",
    "plt.xlabel(\"Date\")\n",
    "plt.ylabel(\"Portfolio Value (Relative)\")\n",
    "plt.grid(True)\n",
    "plt.legend()\n",
    "plt.show()\n"
   ]
  },
  {
   "cell_type": "markdown",
   "metadata": {},
   "source": [
    "General Backtesting"
   ]
  },
  {
   "cell_type": "code",
   "execution_count": null,
   "metadata": {},
   "outputs": [
    {
     "name": "stderr",
     "output_type": "stream",
     "text": [
      "[*********************100%***********************]  1 of 1 completed\n",
      "[*********************100%***********************]  1 of 1 completed\n",
      "[*********************100%***********************]  1 of 1 completed\n",
      "[*********************100%***********************]  1 of 1 completed\n",
      "[*********************100%***********************]  1 of 1 completed\n",
      "[*********************100%***********************]  1 of 1 completed\n",
      "[*********************100%***********************]  1 of 1 completed\n",
      "[*********************100%***********************]  1 of 1 completed\n",
      "[*********************100%***********************]  1 of 1 completed\n",
      "[*********************100%***********************]  1 of 1 completed\n",
      "[*********************100%***********************]  1 of 1 completed\n",
      "[*********************100%***********************]  1 of 1 completed\n",
      "[*********************100%***********************]  1 of 1 completed\n",
      "[*********************100%***********************]  1 of 1 completed\n",
      "[*********************100%***********************]  1 of 1 completed\n",
      "[*********************100%***********************]  1 of 1 completed\n",
      "[*********************100%***********************]  1 of 1 completed\n",
      "[*********************100%***********************]  1 of 1 completed\n",
      "[*********************100%***********************]  1 of 1 completed\n",
      "[*********************100%***********************]  1 of 1 completed\n",
      "[*********************100%***********************]  1 of 1 completed\n",
      "[*********************100%***********************]  1 of 1 completed\n",
      "[*********************100%***********************]  1 of 1 completed\n",
      "[*********************100%***********************]  1 of 1 completed\n",
      "[*********************100%***********************]  1 of 1 completed\n",
      "[*********************100%***********************]  1 of 1 completed\n",
      "[*********************100%***********************]  1 of 1 completed\n",
      "[*********************100%***********************]  1 of 1 completed\n",
      "[*********************100%***********************]  1 of 1 completed\n",
      "[*********************100%***********************]  1 of 1 completed\n",
      "[*********************100%***********************]  1 of 1 completed\n",
      "[*********************100%***********************]  1 of 1 completed\n",
      "[*********************100%***********************]  1 of 1 completed\n",
      "[*********************100%***********************]  1 of 1 completed\n",
      "[*********************100%***********************]  1 of 1 completed\n",
      "[*********************100%***********************]  1 of 1 completed\n",
      "[*********************100%***********************]  1 of 1 completed\n",
      "[*********************100%***********************]  1 of 1 completed\n",
      "[*********************100%***********************]  1 of 1 completed\n",
      "[*********************100%***********************]  1 of 1 completed\n",
      "[*********************100%***********************]  1 of 1 completed\n",
      "[*********************100%***********************]  1 of 1 completed\n",
      "[*********************100%***********************]  1 of 1 completed\n",
      "[*********************100%***********************]  1 of 1 completed\n",
      "[*********************100%***********************]  1 of 1 completed\n",
      "[*********************100%***********************]  1 of 1 completed\n",
      "[*********************100%***********************]  1 of 1 completed\n",
      "[*********************100%***********************]  1 of 1 completed\n",
      "[*********************100%***********************]  1 of 1 completed\n",
      "[*********************100%***********************]  1 of 1 completed\n",
      "[*********************100%***********************]  1 of 1 completed\n",
      "[*********************100%***********************]  1 of 1 completed\n",
      "[*********************100%***********************]  1 of 1 completed\n",
      "[*********************100%***********************]  1 of 1 completed\n",
      "[*********************100%***********************]  1 of 1 completed\n",
      "[*********************100%***********************]  1 of 1 completed\n",
      "[*********************100%***********************]  1 of 1 completed\n",
      "[*********************100%***********************]  1 of 1 completed\n",
      "[*********************100%***********************]  1 of 1 completed\n",
      "[*********************100%***********************]  1 of 1 completed\n",
      "[*********************100%***********************]  1 of 1 completed\n",
      "\n",
      "1 Failed download:\n",
      "['BRK.B']: YFTzMissingError('possibly delisted; no timezone found')\n",
      "[*********************100%***********************]  1 of 1 completed\n",
      "[*********************100%***********************]  1 of 1 completed\n",
      "[*********************100%***********************]  1 of 1 completed\n",
      "[*********************100%***********************]  1 of 1 completed\n",
      "[*********************100%***********************]  1 of 1 completed\n",
      "[*********************100%***********************]  1 of 1 completed\n",
      "[*********************100%***********************]  1 of 1 completed\n",
      "[*********************100%***********************]  1 of 1 completed\n",
      "[*********************100%***********************]  1 of 1 completed\n",
      "[*********************100%***********************]  1 of 1 completed\n",
      "[*********************100%***********************]  1 of 1 completed\n",
      "[*********************100%***********************]  1 of 1 completed\n",
      "[*********************100%***********************]  1 of 1 completed\n",
      "[*********************100%***********************]  1 of 1 completed\n",
      "\n",
      "1 Failed download:\n",
      "['BF.B']: YFPricesMissingError('possibly delisted; no price data found  (1d 2020-01-01 -> 2025-01-01)')\n",
      "[*********************100%***********************]  1 of 1 completed\n",
      "[*********************100%***********************]  1 of 1 completed\n",
      "[*********************100%***********************]  1 of 1 completed\n",
      "[*********************100%***********************]  1 of 1 completed\n",
      "[*********************100%***********************]  1 of 1 completed\n",
      "[*********************100%***********************]  1 of 1 completed\n",
      "[*********************100%***********************]  1 of 1 completed\n",
      "[*********************100%***********************]  1 of 1 completed\n",
      "[*********************100%***********************]  1 of 1 completed\n",
      "[*********************100%***********************]  1 of 1 completed\n",
      "[*********************100%***********************]  1 of 1 completed\n",
      "[*********************100%***********************]  1 of 1 completed\n",
      "[*********************100%***********************]  1 of 1 completed\n",
      "[*********************100%***********************]  1 of 1 completed\n",
      "[*********************100%***********************]  1 of 1 completed\n",
      "[*********************100%***********************]  1 of 1 completed\n",
      "[*********************100%***********************]  1 of 1 completed\n",
      "[*********************100%***********************]  1 of 1 completed\n",
      "[*********************100%***********************]  1 of 1 completed\n",
      "[*********************100%***********************]  1 of 1 completed\n",
      "[*********************100%***********************]  1 of 1 completed\n",
      "[*********************100%***********************]  1 of 1 completed\n",
      "[*********************100%***********************]  1 of 1 completed\n",
      "[*********************100%***********************]  1 of 1 completed\n",
      "[*********************100%***********************]  1 of 1 completed\n",
      "[*********************100%***********************]  1 of 1 completed\n",
      "[*********************100%***********************]  1 of 1 completed\n",
      "[*********************100%***********************]  1 of 1 completed\n",
      "[*********************100%***********************]  1 of 1 completed\n",
      "[*********************100%***********************]  1 of 1 completed\n",
      "[*********************100%***********************]  1 of 1 completed\n",
      "[*********************100%***********************]  1 of 1 completed\n",
      "[*********************100%***********************]  1 of 1 completed\n",
      "[*********************100%***********************]  1 of 1 completed\n",
      "[*********************100%***********************]  1 of 1 completed\n",
      "[*********************100%***********************]  1 of 1 completed\n",
      "[*********************100%***********************]  1 of 1 completed\n",
      "[*********************100%***********************]  1 of 1 completed\n",
      "[*********************100%***********************]  1 of 1 completed\n",
      "[*********************100%***********************]  1 of 1 completed\n",
      "[*********************100%***********************]  1 of 1 completed\n",
      "[*********************100%***********************]  1 of 1 completed\n",
      "[*********************100%***********************]  1 of 1 completed\n",
      "[*********************100%***********************]  1 of 1 completed\n",
      "[*********************100%***********************]  1 of 1 completed\n",
      "[*********************100%***********************]  1 of 1 completed\n",
      "[*********************100%***********************]  1 of 1 completed\n",
      "[*********************100%***********************]  1 of 1 completed\n",
      "[*********************100%***********************]  1 of 1 completed\n",
      "[*********************100%***********************]  1 of 1 completed\n",
      "[*********************100%***********************]  1 of 1 completed\n",
      "[*********************100%***********************]  1 of 1 completed\n",
      "[*********************100%***********************]  1 of 1 completed\n",
      "[*********************100%***********************]  1 of 1 completed\n",
      "[*********************100%***********************]  1 of 1 completed\n",
      "[*********************100%***********************]  1 of 1 completed\n",
      "[*********************100%***********************]  1 of 1 completed\n",
      "[*********************100%***********************]  1 of 1 completed\n",
      "[*********************100%***********************]  1 of 1 completed\n",
      "[*********************100%***********************]  1 of 1 completed\n",
      "[*********************100%***********************]  1 of 1 completed\n",
      "[*********************100%***********************]  1 of 1 completed\n",
      "[*********************100%***********************]  1 of 1 completed\n",
      "[*********************100%***********************]  1 of 1 completed\n",
      "[*********************100%***********************]  1 of 1 completed\n",
      "[*********************100%***********************]  1 of 1 completed\n",
      "[*********************100%***********************]  1 of 1 completed\n",
      "[*********************100%***********************]  1 of 1 completed\n",
      "[*********************100%***********************]  1 of 1 completed\n",
      "[*********************100%***********************]  1 of 1 completed\n",
      "[*********************100%***********************]  1 of 1 completed\n",
      "[*********************100%***********************]  1 of 1 completed\n",
      "[*********************100%***********************]  1 of 1 completed\n",
      "[*********************100%***********************]  1 of 1 completed\n",
      "[*********************100%***********************]  1 of 1 completed\n",
      "[*********************100%***********************]  1 of 1 completed\n",
      "[*********************100%***********************]  1 of 1 completed\n",
      "[*********************100%***********************]  1 of 1 completed\n",
      "[*********************100%***********************]  1 of 1 completed\n",
      "[*********************100%***********************]  1 of 1 completed\n",
      "[*********************100%***********************]  1 of 1 completed\n",
      "[*********************100%***********************]  1 of 1 completed\n",
      "[*********************100%***********************]  1 of 1 completed\n",
      "[*********************100%***********************]  1 of 1 completed\n",
      "[*********************100%***********************]  1 of 1 completed\n",
      "[*********************100%***********************]  1 of 1 completed\n",
      "[*********************100%***********************]  1 of 1 completed\n",
      "[*********************100%***********************]  1 of 1 completed\n",
      "[*********************100%***********************]  1 of 1 completed\n",
      "[*********************100%***********************]  1 of 1 completed\n",
      "[*********************100%***********************]  1 of 1 completed\n",
      "[*********************100%***********************]  1 of 1 completed\n",
      "[*********************100%***********************]  1 of 1 completed\n",
      "[*********************100%***********************]  1 of 1 completed\n",
      "[*********************100%***********************]  1 of 1 completed\n",
      "[*********************100%***********************]  1 of 1 completed\n",
      "[*********************100%***********************]  1 of 1 completed\n",
      "[*********************100%***********************]  1 of 1 completed\n",
      "[*********************100%***********************]  1 of 1 completed\n",
      "[*********************100%***********************]  1 of 1 completed\n",
      "[*********************100%***********************]  1 of 1 completed\n",
      "[*********************100%***********************]  1 of 1 completed\n",
      "[*********************100%***********************]  1 of 1 completed\n",
      "[*********************100%***********************]  1 of 1 completed\n",
      "[*********************100%***********************]  1 of 1 completed\n",
      "[*********************100%***********************]  1 of 1 completed\n",
      "[*********************100%***********************]  1 of 1 completed\n",
      "[*********************100%***********************]  1 of 1 completed\n",
      "[*********************100%***********************]  1 of 1 completed\n",
      "[*********************100%***********************]  1 of 1 completed\n",
      "[*********************100%***********************]  1 of 1 completed\n",
      "[*********************100%***********************]  1 of 1 completed\n",
      "[*********************100%***********************]  1 of 1 completed\n",
      "[*********************100%***********************]  1 of 1 completed\n",
      "[*********************100%***********************]  1 of 1 completed\n",
      "[*********************100%***********************]  1 of 1 completed\n",
      "[*********************100%***********************]  1 of 1 completed\n",
      "[*********************100%***********************]  1 of 1 completed\n",
      "[*********************100%***********************]  1 of 1 completed\n",
      "[*********************100%***********************]  1 of 1 completed\n",
      "[*********************100%***********************]  1 of 1 completed\n",
      "[*********************100%***********************]  1 of 1 completed\n",
      "[*********************100%***********************]  1 of 1 completed\n",
      "[*********************100%***********************]  1 of 1 completed\n",
      "[*********************100%***********************]  1 of 1 completed\n",
      "[*********************100%***********************]  1 of 1 completed\n",
      "[*********************100%***********************]  1 of 1 completed\n",
      "[*********************100%***********************]  1 of 1 completed\n",
      "[*********************100%***********************]  1 of 1 completed\n",
      "[*********************100%***********************]  1 of 1 completed\n",
      "[*********************100%***********************]  1 of 1 completed\n",
      "[*********************100%***********************]  1 of 1 completed\n",
      "[*********************100%***********************]  1 of 1 completed\n",
      "[*********************100%***********************]  1 of 1 completed\n",
      "[*********************100%***********************]  1 of 1 completed\n",
      "[*********************100%***********************]  1 of 1 completed\n",
      "[*********************100%***********************]  1 of 1 completed\n",
      "[*********************100%***********************]  1 of 1 completed\n",
      "[*********************100%***********************]  1 of 1 completed\n",
      "[*********************100%***********************]  1 of 1 completed\n",
      "[*********************100%***********************]  1 of 1 completed\n",
      "[*********************100%***********************]  1 of 1 completed\n",
      "[*********************100%***********************]  1 of 1 completed\n",
      "[*********************100%***********************]  1 of 1 completed\n",
      "[*********************100%***********************]  1 of 1 completed\n",
      "[*********************100%***********************]  1 of 1 completed\n",
      "[*********************100%***********************]  1 of 1 completed\n",
      "[*********************100%***********************]  1 of 1 completed\n",
      "[*********************100%***********************]  1 of 1 completed\n",
      "[*********************100%***********************]  1 of 1 completed\n",
      "[*********************100%***********************]  1 of 1 completed\n",
      "[*********************100%***********************]  1 of 1 completed\n",
      "[*********************100%***********************]  1 of 1 completed\n",
      "[*********************100%***********************]  1 of 1 completed\n",
      "[*********************100%***********************]  1 of 1 completed\n",
      "[*********************100%***********************]  1 of 1 completed\n",
      "[*********************100%***********************]  1 of 1 completed\n",
      "[*********************100%***********************]  1 of 1 completed\n",
      "[*********************100%***********************]  1 of 1 completed\n",
      "[*********************100%***********************]  1 of 1 completed\n",
      "[*********************100%***********************]  1 of 1 completed\n",
      "[*********************100%***********************]  1 of 1 completed\n",
      "[*********************100%***********************]  1 of 1 completed\n",
      "[*********************100%***********************]  1 of 1 completed\n",
      "[*********************100%***********************]  1 of 1 completed\n",
      "[*********************100%***********************]  1 of 1 completed\n",
      "[*********************100%***********************]  1 of 1 completed\n",
      "[*********************100%***********************]  1 of 1 completed\n",
      "[*********************100%***********************]  1 of 1 completed\n",
      "[*********************100%***********************]  1 of 1 completed\n",
      "[*********************100%***********************]  1 of 1 completed\n",
      "[*********************100%***********************]  1 of 1 completed\n",
      "[*********************100%***********************]  1 of 1 completed\n",
      "[*********************100%***********************]  1 of 1 completed\n",
      "[*********************100%***********************]  1 of 1 completed\n",
      "[*********************100%***********************]  1 of 1 completed\n",
      "[*********************100%***********************]  1 of 1 completed\n",
      "[*********************100%***********************]  1 of 1 completed\n",
      "[*********************100%***********************]  1 of 1 completed\n",
      "[*********************100%***********************]  1 of 1 completed\n",
      "[*********************100%***********************]  1 of 1 completed\n",
      "[*********************100%***********************]  1 of 1 completed\n",
      "[*********************100%***********************]  1 of 1 completed\n",
      "[*********************100%***********************]  1 of 1 completed\n",
      "[*********************100%***********************]  1 of 1 completed\n"
     ]
    }
   ],
   "source": [
    "strategy_cutoff = \"2025-01-01\"\n",
    "today = datetime.today().strftime(\"%Y-%m-%d\")\n",
    "\n",
    "\n",
    "# Run portfolio selection using data *before* Jan 1, 2025\n",
    "past_selected, past_weights, _ = get_optimal_portfolio(\n",
    "    all_stocks, start_date, strategy_cutoff, forecast_horizon=forecast_horizon, num_holdings=num_holdings\n",
    ")\n",
    "\n",
    "# Download price data from Jan 1, 2025 to today for backtest\n",
    "future_prices = yf.download(past_selected, start=strategy_cutoff, end=today, progress=False)[\"Close\"]\n",
    "future_prices = future_prices.dropna(axis=1, how='all')\n",
    "returns = future_prices.pct_change().dropna()\n",
    "\n",
    "# Calculate portfolio value over time\n",
    "weighted_returns = returns @ past_weights\n",
    "cumulative_return = (1 + weighted_returns).cumprod()\n",
    "\n",
    "# Plot results\n",
    "plt.figure(figsize=(10, 5))\n",
    "plt.plot(cumulative_return, label=\"Simulated Portfolio Value\")\n",
    "plt.title(\"Backtest: Portfolio Performance Since Jan 2025\")\n",
    "plt.xlabel(\"Date\")\n",
    "plt.ylabel(\"Portfolio Value (Relative)\")\n",
    "plt.grid(True)\n",
    "plt.legend()\n",
    "plt.show()\n"
   ]
  }
 ],
 "metadata": {
  "kernelspec": {
   "display_name": "venv-gpu",
   "language": "python",
   "name": "python3"
  },
  "language_info": {
   "codemirror_mode": {
    "name": "ipython",
    "version": 3
   },
   "file_extension": ".py",
   "mimetype": "text/x-python",
   "name": "python",
   "nbconvert_exporter": "python",
   "pygments_lexer": "ipython3",
   "version": "3.12.5"
  }
 },
 "nbformat": 4,
 "nbformat_minor": 2
}
