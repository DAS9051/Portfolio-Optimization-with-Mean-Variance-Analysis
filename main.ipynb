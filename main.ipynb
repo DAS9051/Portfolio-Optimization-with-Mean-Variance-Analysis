{
  "nbformat": 4,
  "nbformat_minor": 0,
  "metadata": {
    "colab": {
      "provenance": [],
      "authorship_tag": "ABX9TyPEUaarGxdt+9SRAWFke/l9",
      "include_colab_link": true
    },
    "kernelspec": {
      "name": "python3",
      "display_name": "Python 3"
    },
    "language_info": {
      "name": "python"
    }
  },
  "cells": [
    {
      "cell_type": "markdown",
      "metadata": {
        "id": "view-in-github",
        "colab_type": "text"
      },
      "source": [
        "<a href=\"https://colab.research.google.com/github/DAS9051/Portfolio-Optimization-with-Mean-Variance-Analysis/blob/main/main.ipynb\" target=\"_parent\"><img src=\"https://colab.research.google.com/assets/colab-badge.svg\" alt=\"Open In Colab\"/></a>"
      ]
    },
    {
      "cell_type": "markdown",
      "source": [
        "Imports"
      ],
      "metadata": {
        "id": "1Jb5HXgwHCLG"
      }
    },
    {
      "cell_type": "code",
      "source": [
        "import yfinance as yf\n",
        "import pandas as pd\n",
        "import numpy as np\n",
        "from scipy.optimize import minimize\n",
        "import matplotlib.pyplot as plt\n",
        "from sklearn.preprocessing import MinMaxScaler\n",
        "import torch\n",
        "import torch.nn as nn"
      ],
      "metadata": {
        "id": "nBCp3GibHC2z"
      },
      "execution_count": null,
      "outputs": []
    },
    {
      "cell_type": "markdown",
      "source": [
        "Fetch Stock Download Data"
      ],
      "metadata": {
        "id": "FPhzwQgKTiN1"
      }
    },
    {
      "cell_type": "code",
      "source": [
        "stocks = [\n",
        "    \"AAPL\", \"GOOGL\", \"MSFT\", \"TSLA\", \"AMZN\",  # Tech\n",
        "    \"JPM\", \"BAC\", \"GS\",  # Banking\n",
        "    \"XOM\", \"CVX\",  # Energy\n",
        "    \"JNJ\", \"PFE\",  # Healthcare\n",
        "    \"WMT\", \"TGT\",  # Retail\n",
        "    \"NVDA\", \"AMD\",  # Semiconductors\n",
        "    \"DIS\", \"NFLX\",   # Entertainment\n",
        "    \"ACN\",\"ADBE\",\"GOOG\"\n",
        "]\n",
        "\n",
        "\n",
        "\n",
        "data = yf.download(stocks, start=\"2020-01-01\", end=\"2025-03-01\")\n",
        "data = data[\"Close\"]\n",
        "print(data.head())"
      ],
      "metadata": {
        "colab": {
          "base_uri": "https://localhost:8080/"
        },
        "id": "lYvJ9_FXHIre",
        "outputId": "3654a6b4-2887-4c50-9ffa-ad7f09f453e7",
        "collapsed": true
      },
      "execution_count": null,
      "outputs": [
        {
          "output_type": "stream",
          "name": "stdout",
          "text": [
            "YF.download() has changed argument auto_adjust default to True\n"
          ]
        },
        {
          "output_type": "stream",
          "name": "stderr",
          "text": [
            "[*********************100%***********************]  21 of 21 completed\n"
          ]
        },
        {
          "output_type": "stream",
          "name": "stdout",
          "text": [
            "Ticker           AAPL         ACN        ADBE        AMD       AMZN  \\\n",
            "Date                                                                  \n",
            "2020-01-02  72.716072  195.263565  334.429993  49.099998  94.900497   \n",
            "2020-01-03  72.009109  194.938354  331.809998  48.599998  93.748497   \n",
            "2020-01-06  72.582893  193.665436  333.709991  48.389999  95.143997   \n",
            "2020-01-07  72.241562  189.484192  333.390015  48.250000  95.343002   \n",
            "2020-01-08  73.403641  189.855865  337.869995  47.830002  94.598503   \n",
            "\n",
            "Ticker            BAC        CVX         DIS       GOOG      GOOGL  ...  \\\n",
            "Date                                                                ...   \n",
            "2020-01-02  31.275541  96.158691  146.391541  68.123726  68.186821  ...   \n",
            "2020-01-03  30.626163  95.826118  144.712265  67.789429  67.830109  ...   \n",
            "2020-01-06  30.582285  95.501427  143.872635  69.460922  69.638054  ...   \n",
            "2020-01-07  30.380447  94.281929  143.922028  69.417572  69.503548  ...   \n",
            "2020-01-08  30.687586  93.204971  143.625687  69.964615  69.998245  ...   \n",
            "\n",
            "Ticker             JNJ         JPM        MSFT        NFLX      NVDA  \\\n",
            "Date                                                                   \n",
            "2020-01-02  126.055168  121.477249  153.323242  329.809998  5.972711   \n",
            "2020-01-03  124.595726  119.874161  151.414108  325.899994  5.877111   \n",
            "2020-01-06  124.440277  119.778870  151.805511  335.829987  5.901759   \n",
            "2020-01-07  125.200211  117.742531  150.421371  330.750000  5.973208   \n",
            "2020-01-08  125.182953  118.661034  152.817337  339.260010  5.984412   \n",
            "\n",
            "Ticker            PFE         TGT       TSLA        WMT        XOM  \n",
            "Date                                                                \n",
            "2020-01-02  29.490599  111.349785  28.684000  36.782581  55.137974  \n",
            "2020-01-03  29.332380  110.192726  29.534000  36.457855  54.694706  \n",
            "2020-01-06  29.294704  109.150505  30.102667  36.383640  55.114655  \n",
            "2020-01-07  29.196753  109.344818  31.270666  36.046555  54.663582  \n",
            "2020-01-08  29.430319  108.991524  32.809334  35.922848  53.839245  \n",
            "\n",
            "[5 rows x 21 columns]\n"
          ]
        }
      ]
    },
    {
      "cell_type": "code",
      "source": [
        "fundamentals = {}\n",
        "\n",
        "for stock in stocks:\n",
        "    ticker = yf.Ticker(stock)\n",
        "\n",
        "    # Fetch fundamental metrics\n",
        "    pe_ratio = ticker.info.get(\"trailingPE\", None)  # P/E Ratio\n",
        "\n",
        "    # Use Operating Income\n",
        "    operating_income = ticker.financials.loc[\"Operating Income\"].sum() if \"Operating Income\" in ticker.financials.index else None\n",
        "\n",
        "    # Use Research and Development (R&D)\n",
        "    r_and_d = ticker.financials.loc[\"Research And Development\"].sum() if \"Research And Development\" in ticker.financials.index else None\n",
        "\n",
        "    profit_margin = ticker.info.get(\"profitMargins\", None)  # Profit Margin\n",
        "\n",
        "\n",
        "    fundamentals[stock] = {\n",
        "        \"P/E\": pe_ratio,\n",
        "        \"Operating Income\": operating_income,\n",
        "        \"R&D\": r_and_d,\n",
        "        \"Profit Margin\": profit_margin\n",
        "    }\n",
        "\n",
        "fundamentals_df = pd.DataFrame(fundamentals).T\n",
        "print(fundamentals_df)"
      ],
      "metadata": {
        "colab": {
          "base_uri": "https://localhost:8080/"
        },
        "id": "RadgAXcvthyg",
        "outputId": "4af8f1d7-bbc7-47c8-d252-8997d18d8d7e"
      },
      "execution_count": null,
      "outputs": [
        {
          "output_type": "stream",
          "name": "stdout",
          "text": [
            "              P/E  Operating Income           R&D  Profit Margin\n",
            "AAPL    37.887480      4.659030e+11  1.094500e+11        0.24295\n",
            "GOOGL   21.651308      3.502390e+11  1.658150e+11        0.28604\n",
            "MSFT    31.641994      3.512550e+11  1.019330e+11        0.35428\n",
            "TSLA   128.131710      3.697900e+10  1.417700e+10        0.07259\n",
            "AMZN    35.965706      1.425720e+11  4.274000e+10        0.09287\n",
            "JPM     12.267342               NaN           NaN        0.35060\n",
            "BAC     12.897197               NaN           NaN        0.28243\n",
            "GS      13.812191               NaN           NaN        0.27368\n",
            "XOM     13.905612      1.721600e+11           NaN        0.09889\n",
            "CVX     16.084362      1.012760e+11           NaN        0.09031\n",
            "JNJ     28.839100      8.751400e+10  6.072900e+10        0.15836\n",
            "PFE     18.957447      8.117500e+10  4.328900e+10        0.12622\n",
            "WMT     38.058090      9.593000e+10           NaN        0.02854\n",
            "TGT     12.988714      2.504000e+10           NaN        0.03839\n",
            "NVDA    38.329933      1.300430e+11  3.419600e+10        0.55848\n",
            "AMD    100.310000      7.399000e+09  2.017800e+10        0.06364\n",
            "DIS     34.256496      3.133500e+10           NaN        0.06070\n",
            "NFLX    44.847004      2.919896e+10  1.058598e+10        0.22337\n",
            "ACN     28.658293      3.539445e+10           NaN        0.11408\n",
            "ADBE    36.359222      2.629100e+10  1.294400e+10        0.25854\n",
            "GOOG    21.886675      3.502390e+11  1.658150e+11        0.28604\n"
          ]
        }
      ]
    },
    {
      "cell_type": "markdown",
      "source": [
        "Count number of Stocks in the portfolio"
      ],
      "metadata": {
        "id": "akrn2XMmOByv"
      }
    },
    {
      "cell_type": "code",
      "source": [
        "num_stocks = len(data.columns)\n",
        "num_stocks"
      ],
      "metadata": {
        "colab": {
          "base_uri": "https://localhost:8080/"
        },
        "id": "SRPY-mNJN-cc",
        "outputId": "17b3423d-f88f-4df6-f2f6-170cc24958e1"
      },
      "execution_count": null,
      "outputs": [
        {
          "output_type": "execute_result",
          "data": {
            "text/plain": [
              "21"
            ]
          },
          "metadata": {},
          "execution_count": 4
        }
      ]
    },
    {
      "cell_type": "markdown",
      "source": [
        "Setup some Constants"
      ],
      "metadata": {
        "id": "AjcZMg-uTsKI"
      }
    },
    {
      "cell_type": "code",
      "source": [
        "weights = np.ones(num_stocks) / num_stocks\n",
        "returns = data.pct_change().dropna()\n",
        "mean_returns = returns.mean() * 252\n"
      ],
      "metadata": {
        "id": "-Klkk-M2Q6RC"
      },
      "execution_count": null,
      "outputs": []
    },
    {
      "cell_type": "markdown",
      "source": [
        "Makes the Covariance Matirx"
      ],
      "metadata": {
        "id": "VJrXWDyEwdeH"
      }
    },
    {
      "cell_type": "code",
      "source": [
        "# Fill missing values with median to prevent errors\n",
        "fundamentals_df.fillna(fundamentals_df.median(), inplace=True)\n",
        "\n",
        "# Normalize the fundamental metrics (scale between 0 and 1)\n",
        "scaler = MinMaxScaler()\n",
        "normalized_fundamentals = scaler.fit_transform(fundamentals_df)\n",
        "\n",
        "# Define fundamental-based risk model\n",
        "# Higher P/E increases risk, higher Operating Income and Profit Margins lower risk\n",
        "fundamental_risk = (1 / (normalized_fundamentals[:, 0] + 0.01)) - (normalized_fundamentals[:, 1]) - (normalized_fundamentals[:, 3]) + (normalized_fundamentals[:, 2] * 0.5)\n",
        "\n",
        "# Convert to a diagonal covariance matrix\n",
        "fundamental_cov_matrix = np.diag(fundamental_risk)"
      ],
      "metadata": {
        "id": "T6_4wpgkwcS1"
      },
      "execution_count": null,
      "outputs": []
    },
    {
      "cell_type": "markdown",
      "source": [
        "Mean Variance Analysis"
      ],
      "metadata": {
        "id": "AtZNxPPFPbyB"
      }
    },
    {
      "cell_type": "code",
      "source": [
        "def portfolio_performance(weights, mean_returns, cov_matrix):\n",
        "    portfolio_return = np.dot(weights, mean_returns)  # Expected return\n",
        "    portfolio_risk = np.sqrt(np.dot(weights.T, np.dot(cov_matrix, weights)))  # Risk (volatility)\n",
        "    return portfolio_return, portfolio_risk\n",
        "\n",
        "def minimize_volatility(weights, mean_returns, cov_matrix):\n",
        "    return portfolio_performance(weights, mean_returns, cov_matrix)[1]"
      ],
      "metadata": {
        "id": "iy4Y8K1aPcdh"
      },
      "execution_count": null,
      "outputs": []
    },
    {
      "cell_type": "code",
      "source": [
        "constraints = {'type': 'eq', 'fun': lambda x: np.sum(x) - 1}\n",
        "\n",
        "# Bounds: No short-selling (weights must be between 0 and 1)\n",
        "bounds = [(0, 1) for _ in range(num_stocks)]\n",
        "\n",
        "# Optimization process\n",
        "optimized = minimize(minimize_volatility, weights, args=(mean_returns, fundamental_cov_matrix),\n",
        "                     method='SLSQP', bounds=bounds, constraints=constraints)\n",
        "\n",
        "# Extract optimal portfolio weights\n",
        "optimal_weights = optimized.x"
      ],
      "metadata": {
        "id": "Kspmv3jlQoGR"
      },
      "execution_count": null,
      "outputs": []
    },
    {
      "cell_type": "markdown",
      "source": [
        "Returns Portfolio Optimization Precents"
      ],
      "metadata": {
        "id": "T-LuE3jAlJg8"
      }
    },
    {
      "cell_type": "code",
      "source": [
        "for stock, weight in zip(stocks, optimal_weights):\n",
        "    print(f\"{stock}: {weight:.2%}\")"
      ],
      "metadata": {
        "colab": {
          "base_uri": "https://localhost:8080/"
        },
        "id": "-5c-BjwCRL22",
        "outputId": "ed5455a7-3802-4d99-d47d-de1dff99461d"
      },
      "execution_count": null,
      "outputs": [
        {
          "output_type": "stream",
          "name": "stdout",
          "text": [
            "AAPL: 6.47%\n",
            "GOOGL: 2.04%\n",
            "MSFT: 4.59%\n",
            "TSLA: 24.55%\n",
            "AMZN: 4.82%\n",
            "JPM: 0.21%\n",
            "BAC: 0.33%\n",
            "GS: 0.50%\n",
            "XOM: 0.51%\n",
            "CVX: 0.91%\n",
            "JNJ: 3.34%\n",
            "PFE: 1.44%\n",
            "WMT: 4.98%\n",
            "TGT: 0.34%\n",
            "NVDA: 6.84%\n",
            "AMD: 16.59%\n",
            "DIS: 4.19%\n",
            "NFLX: 6.94%\n",
            "ACN: 3.23%\n",
            "ADBE: 5.09%\n",
            "GOOG: 2.09%\n"
          ]
        }
      ]
    }
  ]
}